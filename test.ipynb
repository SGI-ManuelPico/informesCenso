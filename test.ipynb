{
 "cells": [
  {
   "cell_type": "code",
   "execution_count": 1,
   "metadata": {},
   "outputs": [],
   "source": [
    "import pandas as pd\n",
    "import re\n",
    "from openpyxl import load_workbook"
   ]
  },
  {
   "cell_type": "code",
   "execution_count": 4,
   "metadata": {},
   "outputs": [],
   "source": [
    "df = pd.read_excel(r'censos\\Encuesta 1 Identificación.xlsx')"
   ]
  },
  {
   "cell_type": "code",
   "execution_count": 5,
   "metadata": {},
   "outputs": [],
   "source": [
    "plantilla = r'censos\\FORMATO 1 IDENTIFICACIÓN - Aprobado.xlsx'\n",
    "wb = load_workbook(plantilla)\n",
    "ws = wb.active\n",
    "mapeo_columnas = {\n",
    "    'data-num_encuesta': 'Encuesta No.',\n",
    "    'data-fecha': 'Fecha(DD/MM/AAAA)',\n",
    "    'data-encuestador': 'Encuestador',\n",
    "    'data-departamento': 'Departamento',\n",
    "    'data-municipio': 'Municipio',\n",
    "    'data-vereda_centro_poblado': 'Vereda/Centro Poblado',\n",
    "    'data-permite_entrevista': 'Permite Entrevista',\n",
    "    'data-coordenadas': 'Coordenada Norte',\n",
    "    'data-coordenadas-altitude': 'Coordenada Este',\n",
    "    'data-nombre_establecimiento': 'Nombre del establecimiento',\n",
    "    'data-direccion': 'Dirección',\n",
    "    'data-telefono_contacto': 'Teléfono de contacto',\n",
    "    'data-actividad_economica': 'Actividad económica principal',\n",
    "    'data-inicio_actividad': '¿En qué año inició la actividad?',\n",
    "    'data-propietario': 'Propietario',\n",
    "    'data-procedencia_propietario': 'Procedencia',\n",
    "    'data-lugar_residencia': 'Lugar de Residencia',\n",
    "    'data-administrador': 'Administrador',\n",
    "    'data-procedencia_administrador': 'Procedencia.1',\n",
    "    'data-lugar_residencia_admin': 'Lugar de Residencia.1',\n",
    "    'data-actividad_tipo': 'Este establecimiento desarrolla su actividad como',\n",
    "    'data-tipo_actividad': 'Tipo de actividad',\n",
    "    'data-producto_principal': '¿Cuál es el principal producto o servicio que oferta?',\n",
    "    'data-tenencia_propiedad': 'Tenencia de la propiedad',\n",
    "    'data-tenencia_propiedad_other': '¿Cuál?.1',\n",
    "    'data-canon_arrendamiento': 'Canon de arrendamiento',\n",
    "    'data-actividad_ingresos': '¿De que actividad proviene la mayor parte de ingresos obtenidos en la unidad económica?',\n",
    "    'data-frecuencia_ingresos': 'Frecuencia con la que recibe ingresos por actividad',\n",
    "    'data-ingresos': '¿Cuál es la cantidad de ingresos recibidos por la actividad?',\n",
    "    'data-ingresos_other': '¿Cuál?.3',\n",
    "    'data-horario_actividad': '¿En qué horario desempeña la actividad?',\n",
    "    'data-tiene_registro': '¿Tiene registro de cámara y comercio?',\n",
    "    'data-lugares_comercializa': '¿En qué lugares comercializa?',\n",
    "    'data-lugares_comercializa_other': '¿Dónde?',\n",
    "    'data-compra_vereda': '¿Compra productos o insumos en la vereda?',\n",
    "    'data-comercializa_otra_vereda': '¿Comercializa productos o insumos en otras veredas?',\n",
    "    'data-donde_comercializa': '¿En qué lugares?',\n",
    "    'data-estrato': 'Estrato',\n",
    "    'data-servicios_publicos': '¿Cuánto pagó el último mes por concepto de servicios públicos?'\n",
    "}\n",
    "\n",
    "df = df.rename(columns=mapeo_columnas)"
   ]
  },
  {
   "cell_type": "code",
   "execution_count": 12,
   "metadata": {},
   "outputs": [
    {
     "data": {
      "text/html": [
       "<div>\n",
       "<style scoped>\n",
       "    .dataframe tbody tr th:only-of-type {\n",
       "        vertical-align: middle;\n",
       "    }\n",
       "\n",
       "    .dataframe tbody tr th {\n",
       "        vertical-align: top;\n",
       "    }\n",
       "\n",
       "    .dataframe thead th {\n",
       "        text-align: right;\n",
       "    }\n",
       "</style>\n",
       "<table border=\"1\" class=\"dataframe\">\n",
       "  <thead>\n",
       "    <tr style=\"text-align: right;\">\n",
       "      <th></th>\n",
       "      <th>Encuesta No.</th>\n",
       "      <th>Fecha(DD/MM/AAAA)</th>\n",
       "      <th>Encuestador</th>\n",
       "      <th>Departamento</th>\n",
       "      <th>Municipio</th>\n",
       "      <th>Vereda/Centro Poblado</th>\n",
       "      <th>Permite Entrevista</th>\n",
       "      <th>Coordenada Norte</th>\n",
       "      <th>Coordenada Este</th>\n",
       "      <th>data-coordenadas-accuracy</th>\n",
       "      <th>...</th>\n",
       "      <th>¿En qué horario desempeña la actividad?</th>\n",
       "      <th>¿Tiene registro de cámara y comercio?</th>\n",
       "      <th>¿En qué lugares comercializa?</th>\n",
       "      <th>¿Dónde?</th>\n",
       "      <th>¿Compra productos o insumos en la vereda?</th>\n",
       "      <th>¿Comercializa productos o insumos en otras veredas?</th>\n",
       "      <th>¿En qué lugares?</th>\n",
       "      <th>Estrato</th>\n",
       "      <th>¿Cuánto pagó el último mes por concepto de servicios públicos?</th>\n",
       "      <th>data-meta-instanceID</th>\n",
       "    </tr>\n",
       "  </thead>\n",
       "  <tbody>\n",
       "    <tr>\n",
       "      <th>0</th>\n",
       "      <td>1</td>\n",
       "      <td>2024-12-13</td>\n",
       "      <td>Manuel</td>\n",
       "      <td>Cundinamarca</td>\n",
       "      <td>Boyacá</td>\n",
       "      <td>Tunja</td>\n",
       "      <td>yes</td>\n",
       "      <td>4.6719056,-74.0645861</td>\n",
       "      <td>2580.600098</td>\n",
       "      <td>11.676</td>\n",
       "      <td>...</td>\n",
       "      <td>De sol a sol</td>\n",
       "      <td>no</td>\n",
       "      <td>sitio</td>\n",
       "      <td></td>\n",
       "      <td>yes</td>\n",
       "      <td>yes</td>\n",
       "      <td>En las calles</td>\n",
       "      <td>1</td>\n",
       "      <td>0</td>\n",
       "      <td>uuid:290321e4-1301-44d8-bbdd-fc2b632e04cd</td>\n",
       "    </tr>\n",
       "  </tbody>\n",
       "</table>\n",
       "<p>1 rows × 42 columns</p>\n",
       "</div>"
      ],
      "text/plain": [
       "   Encuesta No. Fecha(DD/MM/AAAA) Encuestador  Departamento Municipio  \\\n",
       "0             1        2024-12-13      Manuel  Cundinamarca    Boyacá   \n",
       "\n",
       "  Vereda/Centro Poblado Permite Entrevista       Coordenada Norte  \\\n",
       "0                 Tunja                yes  4.6719056,-74.0645861   \n",
       "\n",
       "   Coordenada Este  data-coordenadas-accuracy  ...  \\\n",
       "0      2580.600098                     11.676  ...   \n",
       "\n",
       "  ¿En qué horario desempeña la actividad?  \\\n",
       "0                            De sol a sol   \n",
       "\n",
       "  ¿Tiene registro de cámara y comercio?  ¿En qué lugares comercializa?  \\\n",
       "0                                    no                          sitio   \n",
       "\n",
       "  ¿Dónde?  ¿Compra productos o insumos en la vereda?  \\\n",
       "0                                                yes   \n",
       "\n",
       "  ¿Comercializa productos o insumos en otras veredas? ¿En qué lugares?  \\\n",
       "0                                                yes     En las calles   \n",
       "\n",
       "  Estrato ¿Cuánto pagó el último mes por concepto de servicios públicos?  \\\n",
       "0       1                                                  0               \n",
       "\n",
       "                        data-meta-instanceID  \n",
       "0  uuid:290321e4-1301-44d8-bbdd-fc2b632e04cd  \n",
       "\n",
       "[1 rows x 42 columns]"
      ]
     },
     "execution_count": 12,
     "metadata": {},
     "output_type": "execute_result"
    }
   ],
   "source": [
    "df"
   ]
  },
  {
   "cell_type": "code",
   "execution_count": 16,
   "metadata": {},
   "outputs": [
    {
     "data": {
      "text/plain": [
       "0    natural\n",
       "Name: Este establecimiento desarrolla su actividad como, dtype: object"
      ]
     },
     "execution_count": 16,
     "metadata": {},
     "output_type": "execute_result"
    }
   ],
   "source": [
    "df['Este establecimiento desarrolla su actividad como']"
   ]
  },
  {
   "cell_type": "code",
   "execution_count": 14,
   "metadata": {},
   "outputs": [
    {
     "data": {
      "text/plain": [
       "<Cell 'IDENTIFICACIÓN'.Y1>"
      ]
     },
     "execution_count": 14,
     "metadata": {},
     "output_type": "execute_result"
    }
   ],
   "source": [
    "ws['Y1']"
   ]
  },
  {
   "cell_type": "code",
   "execution_count": 20,
   "metadata": {},
   "outputs": [],
   "source": [
    "if pd.notna(df['Fecha(DD/MM/AAAA)'].iloc[0]):  # Usar .iloc[0] para acceder al valor\n",
    "    fecha_str = str(df['Fecha(DD/MM/AAAA)'].iloc[0])\n",
    "    delimitador = '/' if '/' in fecha_str else '-'\n",
    "\n",
    "    partes = fecha_str.split(delimitador)\n",
    "    \n",
    "    if delimitador == '/':  # Formato DD/MM/AAAA\n",
    "        ws['AD2'] = partes[0]  # Día\n",
    "        ws['Z2'] = partes[1]   # Mes\n",
    "        ws['X2'] = partes[2]   # Año\n",
    "    else:  # Formato YYYY-MM-DD\n",
    "        ws['X2'] = partes[0]   # Año\n",
    "        ws['Z2'] = partes[1]   # Mes\n",
    "        ws['AD2'] = partes[2]  # Día\n",
    "else:\n",
    "    print('Campo de fecha vacío')"
   ]
  },
  {
   "cell_type": "code",
   "execution_count": 30,
   "metadata": {},
   "outputs": [
    {
     "ename": "AttributeError",
     "evalue": "'Series' object has no attribute 'day'",
     "output_type": "error",
     "traceback": [
      "\u001b[1;31m---------------------------------------------------------------------------\u001b[0m",
      "\u001b[1;31mAttributeError\u001b[0m                            Traceback (most recent call last)",
      "\u001b[1;32m~\\AppData\\Local\\Temp\\ipykernel_17336\\3330151846.py\u001b[0m in \u001b[0;36m?\u001b[1;34m()\u001b[0m\n\u001b[1;32m----> 1\u001b[1;33m \u001b[0mdf\u001b[0m\u001b[1;33m[\u001b[0m\u001b[1;34m'Fecha(DD/MM/AAAA)'\u001b[0m\u001b[1;33m]\u001b[0m\u001b[1;33m.\u001b[0m\u001b[0mday\u001b[0m\u001b[1;33m\u001b[0m\u001b[1;33m\u001b[0m\u001b[0m\n\u001b[0m",
      "\u001b[1;32m~\\AppData\\Local\\Packages\\PythonSoftwareFoundation.Python.3.11_qbz5n2kfra8p0\\LocalCache\\local-packages\\Python311\\site-packages\\pandas\\core\\generic.py\u001b[0m in \u001b[0;36m?\u001b[1;34m(self, name)\u001b[0m\n\u001b[0;32m   6295\u001b[0m             \u001b[1;32mand\u001b[0m \u001b[0mname\u001b[0m \u001b[1;32mnot\u001b[0m \u001b[1;32min\u001b[0m \u001b[0mself\u001b[0m\u001b[1;33m.\u001b[0m\u001b[0m_accessors\u001b[0m\u001b[1;33m\u001b[0m\u001b[1;33m\u001b[0m\u001b[0m\n\u001b[0;32m   6296\u001b[0m             \u001b[1;32mand\u001b[0m \u001b[0mself\u001b[0m\u001b[1;33m.\u001b[0m\u001b[0m_info_axis\u001b[0m\u001b[1;33m.\u001b[0m\u001b[0m_can_hold_identifiers_and_holds_name\u001b[0m\u001b[1;33m(\u001b[0m\u001b[0mname\u001b[0m\u001b[1;33m)\u001b[0m\u001b[1;33m\u001b[0m\u001b[1;33m\u001b[0m\u001b[0m\n\u001b[0;32m   6297\u001b[0m         ):\n\u001b[0;32m   6298\u001b[0m             \u001b[1;32mreturn\u001b[0m \u001b[0mself\u001b[0m\u001b[1;33m[\u001b[0m\u001b[0mname\u001b[0m\u001b[1;33m]\u001b[0m\u001b[1;33m\u001b[0m\u001b[1;33m\u001b[0m\u001b[0m\n\u001b[1;32m-> 6299\u001b[1;33m         \u001b[1;32mreturn\u001b[0m \u001b[0mobject\u001b[0m\u001b[1;33m.\u001b[0m\u001b[0m__getattribute__\u001b[0m\u001b[1;33m(\u001b[0m\u001b[0mself\u001b[0m\u001b[1;33m,\u001b[0m \u001b[0mname\u001b[0m\u001b[1;33m)\u001b[0m\u001b[1;33m\u001b[0m\u001b[1;33m\u001b[0m\u001b[0m\n\u001b[0m",
      "\u001b[1;31mAttributeError\u001b[0m: 'Series' object has no attribute 'day'"
     ]
    }
   ],
   "source": [
    "df['Fecha(DD/MM/AAAA)'].day"
   ]
  }
 ],
 "metadata": {
  "kernelspec": {
   "display_name": "Python 3",
   "language": "python",
   "name": "python3"
  },
  "language_info": {
   "codemirror_mode": {
    "name": "ipython",
    "version": 3
   },
   "file_extension": ".py",
   "mimetype": "text/x-python",
   "name": "python",
   "nbconvert_exporter": "python",
   "pygments_lexer": "ipython3",
   "version": "3.11.9"
  }
 },
 "nbformat": 4,
 "nbformat_minor": 2
}
